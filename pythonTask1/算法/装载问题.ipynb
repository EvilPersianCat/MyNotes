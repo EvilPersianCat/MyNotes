{
 "cells": [
  {
   "attachments": {},
   "cell_type": "markdown",
   "metadata": {},
   "source": [
    "## 装载问题"
   ]
  },
  {
   "attachments": {},
   "cell_type": "markdown",
   "metadata": {},
   "source": [
    "### 回溯法解决装载问题"
   ]
  },
  {
   "attachments": {},
   "cell_type": "markdown",
   "metadata": {},
   "source": [
    "基于深搜的思想，每次搜索装和不装两种情况，若超重则结束搜索，然后找出最大值，每以此遍历都要保存路径，代码很简洁。"
   ]
  },
  {
   "cell_type": "code",
   "execution_count": 5,
   "metadata": {},
   "outputs": [
    {
     "name": "stdout",
     "output_type": "stream",
     "text": [
      "最大装载量为：61\n",
      "结果为：[1, 0, 1, 1]\n"
     ]
    }
   ],
   "source": [
    "c1 = int( input() )\n",
    "n = int( input() )\n",
    "w = list(map(int, input().split()))\n",
    "s = sum(w)\n",
    "resp = []\n",
    "maxS = 0\n",
    "\n",
    "\n",
    "def trace_back(i, cur1, path):\n",
    "    global maxS\n",
    "    global resp\n",
    "\n",
    "    if cur1 > c1:\n",
    "        return\n",
    "\n",
    "    if cur1 > maxS:\n",
    "        maxS = cur1\n",
    "        resp = path.copy()\n",
    "\n",
    "    if i < n:\n",
    "        trace_back(i + 1, cur1, path + [0])\n",
    "        trace_back(i + 1, cur1 + w[i], path + [1])\n",
    "\n",
    "\n",
    "def main():\n",
    "    trace_back(0, 0, [])\n",
    "    print(f\"最大装载量为：{maxS}\")\n",
    "    print(f\"结果为：{resp}\")\n",
    "\n",
    "\n",
    "if __name__ == \"__main__\":\n",
    "    main()\n"
   ]
  },
  {
   "attachments": {},
   "cell_type": "markdown",
   "metadata": {},
   "source": [
    "### 使用分支限界法（FIFO）"
   ]
  },
  {
   "attachments": {},
   "cell_type": "markdown",
   "metadata": {},
   "source": [
    "基于广度优先搜索的思想，需要注意每层结束时添加一个 -1 作为标记。层数达到 n 时判断是否为最优解。因为时逐层遍历，因此保存路径比较困难, 这里用一个 pre 数组保存上一次的状态，最后从结果回溯，寻找路径。"
   ]
  },
  {
   "cell_type": "code",
   "execution_count": 6,
   "metadata": {},
   "outputs": [
    {
     "name": "stdout",
     "output_type": "stream",
     "text": [
      "最大装载量为: 61\n",
      "路径为：[1, 0, 1, 1]"
     ]
    }
   ],
   "source": [
    "from collections import deque\n",
    "\n",
    "c = int(input())\n",
    "n = int(input())\n",
    "w = list(map(int, input().split()))\n",
    "pre = [-1] * ( sum(w) + 10 )\n",
    "path = [0] * n\n",
    "resp = 0\n",
    "idx = 0\n",
    "\n",
    "\n",
    "def bfs():\n",
    "    global resp, idx\n",
    "    queue = deque()\n",
    "    queue.append(0)\n",
    "    queue.append(-1)\n",
    "    while queue:\n",
    "        eq = queue.popleft()\n",
    "\n",
    "        if idx == n:\n",
    "            resp = max(resp, eq)\n",
    "            continue\n",
    "\n",
    "        if eq != -1:\n",
    "            queue.append(eq)\n",
    "            if w[idx] + eq <= c:\n",
    "                pre[eq + w[idx]] = eq\n",
    "                queue.append(eq + w[idx])\n",
    "\n",
    "        if eq == -1 and idx != n:\n",
    "            idx += 1\n",
    "            queue.append(-1)\n",
    "\n",
    "\n",
    "def main():\n",
    "    global resp\n",
    "    bfs()\n",
    "    print(f\"最大装载量为: {resp}\")\n",
    "    while pre[resp] != -1:\n",
    "        path[w.index(resp - pre[resp])] = 1\n",
    "        resp = pre[resp]\n",
    "    print(f\"路径为：{path}\", end=\"\")\n",
    "\n",
    "\n",
    "if __name__ == \"__main__\":\n",
    "    main()\n"
   ]
  },
  {
   "attachments": {},
   "cell_type": "markdown",
   "metadata": {},
   "source": [
    "## 总结：\n",
    "装载问题复习了回溯法的使用，并且新学习了分治限界法的使用，两种算法分别对应了深搜和广搜模型，因此本题参考价值很大。这次的难点在于用分治限界法保存路径，最后另开辟了一个 pre 数组解决问题。\n",
    "\n",
    "本次实验小有遗憾，优先队列需要使用大根堆数据结构，对我来说难度有点大，没能实现，之后回抽空补上这一块的知识。"
   ]
  }
 ],
 "metadata": {
  "kernelspec": {
   "display_name": "Python 3",
   "language": "python",
   "name": "python3"
  },
  "language_info": {
   "codemirror_mode": {
    "name": "ipython",
    "version": 3
   },
   "file_extension": ".py",
   "mimetype": "text/x-python",
   "name": "python",
   "nbconvert_exporter": "python",
   "pygments_lexer": "ipython3",
   "version": "3.10.8"
  },
  "orig_nbformat": 4,
  "vscode": {
   "interpreter": {
    "hash": "6e7adb6d130a076c5cac5ce0a35c09d689a7b2905a9c54668818078855c95e93"
   }
  }
 },
 "nbformat": 4,
 "nbformat_minor": 2
}
