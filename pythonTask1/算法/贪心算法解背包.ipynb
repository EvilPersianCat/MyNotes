{
 "cells": [
  {
   "cell_type": "markdown",
   "metadata": {},
   "source": [
    "## 贪心算法解决背包问题\n",
    "### 分析：\n",
    "分数背包能用贪心算法来做，因为到最后肯定会把背包装满，所以我们每次只要把当前单位重量下，价值最高的放进背包知道背包满了就好。定义一个价值密度的概念，每次都选择重量最轻的物品，将价值密度si定义为pi/wi。\n",
    "### 代码："
   ]
  },
  {
   "cell_type": "code",
   "execution_count": 3,
   "metadata": {},
   "outputs": [
    {
     "name": "stdout",
     "output_type": "stream",
     "text": [
      "[1, 1, 0.6666666666666666]\n"
     ]
    }
   ],
   "source": [
    "n,m = map( int, input().split() )\n",
    "w = list( map( int, input().split() ) )\n",
    "v = list( map( int, input().split() ) )\n",
    "goods = [ (v[i],w[i]) for i in range(n) ]\n",
    "goods.sort(key=lambda x: x[0] / x[1], reverse=True)\n",
    "\n",
    "def fractional_backpack(goods, w):\n",
    "    resp = [0 for _ in range(len(goods))]\n",
    "    for i, (price, weight) in enumerate(goods):\n",
    "        if w >= weight:\n",
    "            resp[i] = 1\n",
    "            w -= weight\n",
    "        else:\n",
    "            resp[i] = w / weight\n",
    "            w = 0\n",
    "            break\n",
    "    return resp\n",
    "\n",
    "print(fractional_backpack(goods, m))"
   ]
  },
  {
   "cell_type": "markdown",
   "metadata": {},
   "source": [
    "# 贪心算法解决最优装载问题\n",
    "## 分析\n",
    "首先用数组承载每个集装箱的重量\n",
    "\n",
    "为了方便，给数组排个序\n",
    "\n",
    "循环小于集装箱数量\n",
    "\n",
    "方法： 定义剩余变量，判断每个的重量是否大于剩余重量，然后剩余变量减每个的重量"
   ]
  },
  {
   "cell_type": "code",
   "execution_count": 17,
   "metadata": {},
   "outputs": [
    {
     "name": "stdout",
     "output_type": "stream",
     "text": [
      "最优装载重量为: 4\n",
      "集装箱序号为: [0, 2, 3]\n"
     ]
    }
   ],
   "source": [
    "n,m = map( int, input().split() )\n",
    "w = list( map( int, input().split() ) )\n",
    "resp = 0\n",
    "weight = 0\n",
    "path = []\n",
    "goods = [ (i,w[i]) for i in range(n) ]\n",
    "goods.sort(key=lambda x: x[1], reverse=False)\n",
    "for i,(index,weight) in enumerate(goods):\n",
    "    if m >= weight:\n",
    "        m -= weight\n",
    "        resp += weight\n",
    "        path.append(index)\n",
    "    else:\n",
    "        break\n",
    "print( f'最优装载重量为: {resp}' )\n",
    "print(f'集装箱序号为: {sorted(path)}')\n"
   ]
  },
  {
   "cell_type": "markdown",
   "metadata": {},
   "source": [
    "## 总结：\n",
    "1. 总体来说，贪心问题代码比较简单，但是思想比较复杂，使用贪心算法解决问题必须要事先证明。\n",
    "2. 贪心算法不能解决0-1背包问题，只有在背包问题物品可分时才能用贪心算法"
   ]
  }
 ],
 "metadata": {
  "kernelspec": {
   "display_name": "Python 3.10.8 64-bit",
   "language": "python",
   "name": "python3"
  },
  "language_info": {
   "codemirror_mode": {
    "name": "ipython",
    "version": 3
   },
   "file_extension": ".py",
   "mimetype": "text/x-python",
   "name": "python",
   "nbconvert_exporter": "python",
   "pygments_lexer": "ipython3",
   "version": "3.10.8"
  },
  "orig_nbformat": 4,
  "vscode": {
   "interpreter": {
    "hash": "6e7adb6d130a076c5cac5ce0a35c09d689a7b2905a9c54668818078855c95e93"
   }
  }
 },
 "nbformat": 4,
 "nbformat_minor": 2
}
