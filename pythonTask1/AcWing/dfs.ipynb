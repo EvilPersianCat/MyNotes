{
 "cells": [
  {
   "attachments": {},
   "cell_type": "markdown",
   "metadata": {},
   "source": [
    "# DFS"
   ]
  },
  {
   "attachments": {},
   "cell_type": "markdown",
   "metadata": {},
   "source": [
    "## 全排列\n",
    "输入一个整数n，输出1-n的全排列"
   ]
  },
  {
   "cell_type": "code",
   "execution_count": 5,
   "metadata": {},
   "outputs": [
    {
     "name": "stdout",
     "output_type": "stream",
     "text": [
      "1 2 3\n",
      "1 3 2\n",
      "2 1 3\n",
      "2 3 1\n",
      "3 1 2\n",
      "3 2 1\n"
     ]
    }
   ],
   "source": [
    "# 使用全局变量，需要恢复现场\n",
    "n = int(input())\n",
    "path = [0 for _ in range(n)]\n",
    "st = [False for _ in range(n+1)]\n",
    "\n",
    "def dfs(index):\n",
    "    if index == n:\n",
    "        print(*path)\n",
    "    for i in range(1,n+1):\n",
    "        if not st[i]:\n",
    "            st[i] = True\n",
    "            path[index] = i\n",
    "            dfs(index+1)\n",
    "            st[i] = False\n",
    "\n",
    "\n",
    "if __name__ == '__main__':\n",
    "    dfs(0)\n"
   ]
  },
  {
   "cell_type": "code",
   "execution_count": 13,
   "metadata": {},
   "outputs": [
    {
     "name": "stdout",
     "output_type": "stream",
     "text": [
      "1 2 3\n",
      "1 3 2\n",
      "2 1 3\n",
      "2 3 1\n",
      "3 1 2\n",
      "3 2 1\n"
     ]
    }
   ],
   "source": [
    "# 使用参数,直接在参数中调整，就不用恢复现场\n",
    "n = int(input())\n",
    "st = [False for _ in range(n+1)]\n",
    "s = set()\n",
    "\n",
    "def dfs(index, path):\n",
    "    if index == n:\n",
    "        print(*path)\n",
    "    for i in range(1,n+1):\n",
    "        if not st[i]:\n",
    "            st[i] = True\n",
    "            # path.append(i)\n",
    "            dfs(index+1, path+[i])\n",
    "            # path.pop()\n",
    "            st[i] = False\n",
    "\n",
    "\n",
    "if __name__ == '__main__':\n",
    "    dfs(0, [])\n"
   ]
  },
  {
   "attachments": {},
   "cell_type": "markdown",
   "metadata": {},
   "source": [
    "### n皇后问题"
   ]
  },
  {
   "cell_type": "code",
   "execution_count": 33,
   "metadata": {},
   "outputs": [
    {
     "name": "stdout",
     "output_type": "stream",
     "text": [
      ".Q..\n",
      "...Q\n",
      "Q...\n",
      "..Q.\n",
      "\n",
      "..Q.\n",
      "Q...\n",
      "...Q\n",
      ".Q..\n",
      "\n"
     ]
    }
   ],
   "source": [
    "N = 20\n",
    "n = int(input())\n",
    "resp = [[\".\"] * n for _ in range(n)]\n",
    "st = [False] * N\n",
    "dg = [False] * N\n",
    "udg = [False] * N\n",
    "\n",
    "\n",
    "def dfs(u):\n",
    "    global n\n",
    "    if u == n:\n",
    "        for i in range(n):\n",
    "            for j in range(n):\n",
    "                print(resp[i][j], end=\"\")\n",
    "            print()\n",
    "        print()\n",
    "        return\n",
    "\n",
    "    for i in range(n):\n",
    "        if st[i] == False and dg[u + i] == False and udg[n - u + i] == False:\n",
    "            st[i] = dg[u + i] = udg[n - u + i] = True  # 这里错写成 st[u] !, 应该确定行（就是u），对列判重\n",
    "            resp[u][i] = \"Q\"\n",
    "            dfs(u + 1)\n",
    "            resp[u][i] = \".\"\n",
    "            st[i] = dg[u + i] = udg[n - u + i] = False\n",
    "\n",
    "\n",
    "if __name__ == \"__main__\":\n",
    "    dfs(0)\n"
   ]
  }
 ],
 "metadata": {
  "kernelspec": {
   "display_name": "Python 3",
   "language": "python",
   "name": "python3"
  },
  "language_info": {
   "codemirror_mode": {
    "name": "ipython",
    "version": 3
   },
   "file_extension": ".py",
   "mimetype": "text/x-python",
   "name": "python",
   "nbconvert_exporter": "python",
   "pygments_lexer": "ipython3",
   "version": "3.10.8 (tags/v3.10.8:aaaf517, Oct 11 2022, 16:50:30) [MSC v.1933 64 bit (AMD64)]"
  },
  "orig_nbformat": 4,
  "vscode": {
   "interpreter": {
    "hash": "6e7adb6d130a076c5cac5ce0a35c09d689a7b2905a9c54668818078855c95e93"
   }
  }
 },
 "nbformat": 4,
 "nbformat_minor": 2
}
