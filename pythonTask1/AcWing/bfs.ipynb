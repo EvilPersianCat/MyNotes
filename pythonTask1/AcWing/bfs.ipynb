{
 "cells": [
  {
   "attachments": {},
   "cell_type": "markdown",
   "metadata": {},
   "source": [
    "# BFS"
   ]
  },
  {
   "attachments": {},
   "cell_type": "markdown",
   "metadata": {},
   "source": [
    "## 走迷宫"
   ]
  },
  {
   "cell_type": "code",
   "execution_count": null,
   "metadata": {},
   "outputs": [],
   "source": [
    "from collections import deque\n",
    "\n",
    "n, m = map(int, input().split())\n",
    "matrix = []\n",
    "d = [[-1] * m for _ in range(n)]\n",
    "for i in range(n):\n",
    "    matrix.append(list(map(int, input().split())))\n",
    "\n",
    "\n",
    "def bfs():\n",
    "    dir = [[-1, 0], [0, 1], [1, 0], [0, -1]]\n",
    "    queue = deque()\n",
    "    queue.append((0, 0))\n",
    "    d[0][0] = 0\n",
    "    while queue:\n",
    "        t = queue.popleft()\n",
    "        for i in range(4):\n",
    "            x, y = t[0] + dir[i][0], t[1] + dir[i][1]\n",
    "            if (\n",
    "                x < n\n",
    "                and y < m\n",
    "                and x >= 0\n",
    "                and y >= 0\n",
    "                and d[x][y] == -1\n",
    "                and matrix[x][y] == 0\n",
    "            ):\n",
    "                queue.append((x, y))\n",
    "                d[x][y] = d[t[0]][t[1]] + 1\n",
    "\n",
    "    # return d[-1][-1]\n",
    "    return d[-1][-1]\n",
    "\n",
    "\n",
    "if __name__ == \"__main__\":\n",
    "    print(bfs())\n"
   ]
  },
  {
   "attachments": {},
   "cell_type": "markdown",
   "metadata": {},
   "source": [
    "## 845.八数码(权重)\n",
    "所有边的权重均为1时，可以用bfs求最短路径\n",
    "\n",
    "**伪代码模板：**\n",
    "\n",
    "> queue <- 初始\n",
    "> \n",
    "> while queue 非空：\n",
    "> \n",
    ">    t <- 队头\n",
    "> \n",
    ">    拓展t\n"
   ]
  },
  {
   "attachments": {},
   "cell_type": "markdown",
   "metadata": {},
   "source": []
  }
 ],
 "metadata": {
  "kernelspec": {
   "display_name": "Python 3",
   "language": "python",
   "name": "python3"
  },
  "language_info": {
   "name": "python",
   "version": "3.10.8 (tags/v3.10.8:aaaf517, Oct 11 2022, 16:50:30) [MSC v.1933 64 bit (AMD64)]"
  },
  "orig_nbformat": 4,
  "vscode": {
   "interpreter": {
    "hash": "6e7adb6d130a076c5cac5ce0a35c09d689a7b2905a9c54668818078855c95e93"
   }
  }
 },
 "nbformat": 4,
 "nbformat_minor": 2
}
