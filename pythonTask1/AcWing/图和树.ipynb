{
 "cells": [
  {
   "attachments": {},
   "cell_type": "markdown",
   "metadata": {},
   "source": [
    "# 图和树\n",
    "搜索与图论第一章\n",
    "\n",
    "**图的存储**\n",
    "如果有同学跟我一样理解那个图的建立 理解了很久 下面是我的思考结果\n",
    "\n",
    "```\n",
    "N ： 节点数量\n",
    "M : 边的数量\n",
    "i : 节点的下标索引\n",
    "idx ： 边的下标索引\n",
    "\n",
    "h[N] : 表示 第 i 个节点的 第一条边的 idx\n",
    "head[M] : 表示 与 第 idx 条边 同起点 的 下一条边 的 idx\n",
    "end[M] : 表示 第idx 条边的 终点\n",
    "```\n",
    "\n",
    "```java\n",
    "public static void add(int a,int b){\n",
    "        e[idx] = b;\n",
    "        ne[idx] = h[a];\n",
    "        h[a] = idx++;\n",
    "    }\n",
    "```\n",
    "首先我们可以看到初始化的时候\n",
    "```java\n",
    "for(int i = 1 ; i < N ; i++ ){\n",
    "            h[i] = -1;\n",
    "        }\n",
    "```\n",
    "这代表了h[1] —> h[n]都是空链表现在 只有一个头节点\n",
    "\n",
    "之后每次要建立一个新的有向边的时候\n",
    "\n",
    "e数组存储的是最新的那个有向边的end节点，比如1—>2,他就会把2input到e数组当前的位子上(index)\n",
    "\n",
    "并且把之前的头节点连接的第一个节点变成ne数组的对应项\n",
    "\n",
    "可以举一个例子\n",
    "\n",
    "1->2\n",
    "\n",
    "1->5\n",
    "\n",
    "一开始的时候 h[1] = -1\n",
    "\n",
    "这说明头节点是1的链表里 除了他自己没有其他人了 说明1没有朝向任何其他点的有向边（以1为开始点）\n",
    "\n",
    "现在要加入2\n",
    "\n",
    "首先\n",
    "我们会在e array里更新一个新值 说明我们有一个新边了 而且他的end是2\n",
    "\n",
    "e[idx] = b;\n",
    "\n",
    "然后因为我们的strategy是每次有新的加入就把他加到头部\n",
    "\n",
    "所以我们要把原来的头部后撤\n",
    "\n",
    "ne[idx] = h[a];\n",
    "\n",
    "并且告诉h数组 现在你指向的第一个节点是新建的那个边的end\n",
    "\n",
    "h[a] = idx++;\n",
    "\n",
    "1-2->-1\n",
    "\n",
    "1->5同理\n",
    "\n",
    "我们会得到\n",
    "\n",
    "1—>5->2->-1\n"
   ]
  },
  {
   "attachments": {},
   "cell_type": "markdown",
   "metadata": {},
   "source": [
    "### AcWing 846. 树的重心"
   ]
  },
  {
   "cell_type": "code",
   "execution_count": null,
   "metadata": {},
   "outputs": [],
   "source": []
  },
  {
   "attachments": {},
   "cell_type": "markdown",
   "metadata": {},
   "source": [
    "### AcWing 847. 图中点的层次"
   ]
  },
  {
   "cell_type": "code",
   "execution_count": null,
   "metadata": {},
   "outputs": [],
   "source": []
  }
 ],
 "metadata": {
  "kernelspec": {
   "display_name": "Python 3",
   "language": "python",
   "name": "python3"
  },
  "language_info": {
   "name": "python",
   "version": "3.10.8 (tags/v3.10.8:aaaf517, Oct 11 2022, 16:50:30) [MSC v.1933 64 bit (AMD64)]"
  },
  "orig_nbformat": 4,
  "vscode": {
   "interpreter": {
    "hash": "6e7adb6d130a076c5cac5ce0a35c09d689a7b2905a9c54668818078855c95e93"
   }
  }
 },
 "nbformat": 4,
 "nbformat_minor": 2
}
