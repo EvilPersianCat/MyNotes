{
 "cells": [
  {
   "cell_type": "code",
   "execution_count": null,
   "outputs": [],
   "source": [
    "N = int(input())\n",
    "nums = [0]\n",
    "nums.extend( list( map( int, input().split() ) ))\n",
    "dp = [ [1e9] * (N+1) for _ in range(N+1)]  # 初始化时要注意\n",
    "s = [0] * (N+1)\n",
    "for i in range(1,N+1):\n",
    "    s[i] = s[i-1] + nums[i]\n",
    "    dp[i][i] = 0\n",
    "\n",
    "for L in range( 2 , N+1 ):\n",
    "    for i in range( 1, N+1 ):\n",
    "        j = i + L - 1\n",
    "        if j >= N+1:\n",
    "            break\n",
    "        for k in range( i , j ):\n",
    "            dp[i][j] = min( dp[i][j] , dp[i][k] + dp[k+1][j] + s[j] - s[i-1] )\n",
    "print(dp[1][N])"
   ],
   "metadata": {
    "collapsed": false
   }
  },
  {
   "cell_type": "markdown",
   "source": [
    "### 本题初始化时要注意，因为dp数组取最小值，因此这里初始化时要给无限大"
   ],
   "metadata": {
    "collapsed": false
   }
  },
  {
   "cell_type": "code",
   "execution_count": null,
   "outputs": [],
   "source": [],
   "metadata": {
    "collapsed": false
   }
  }
 ],
 "metadata": {
  "kernelspec": {
   "display_name": "Python 3",
   "language": "python",
   "name": "python3"
  },
  "language_info": {
   "codemirror_mode": {
    "name": "ipython",
    "version": 2
   },
   "file_extension": ".py",
   "mimetype": "text/x-python",
   "name": "python",
   "nbconvert_exporter": "python",
   "pygments_lexer": "ipython2",
   "version": "2.7.6"
  }
 },
 "nbformat": 4,
 "nbformat_minor": 0
}
