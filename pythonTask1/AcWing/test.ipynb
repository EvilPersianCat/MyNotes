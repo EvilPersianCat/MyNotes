{
 "cells": [
  {
   "cell_type": "code",
   "execution_count": null,
   "metadata": {
    "collapsed": false
   },
   "outputs": [],
   "source": [
    "N = int(input())\n",
    "nums = [0]\n",
    "nums.extend( list( map( int, input().split() ) ))\n",
    "dp = [ [1e9] * (N+1) for _ in range(N+1)]  # 初始化时要注意\n",
    "s = [0] * (N+1)\n",
    "for i in range(1,N+1):\n",
    "    s[i] = s[i-1] + nums[i]\n",
    "    dp[i][i] = 0\n",
    "\n",
    "for L in range( 2 , N+1 ):\n",
    "    for i in range( 1, N+1 ):\n",
    "        j = i + L - 1\n",
    "        if j >= N+1:\n",
    "            break\n",
    "        for k in range( i , j ):\n",
    "            dp[i][j] = min( dp[i][j] , dp[i][k] + dp[k+1][j] + s[j] - s[i-1] )\n",
    "print(dp[1][N])"
   ]
  },
  {
   "cell_type": "markdown",
   "metadata": {
    "collapsed": false
   },
   "source": [
    "### 本题初始化时要注意，因为dp数组取最小值，因此这里初始化时要给无限大"
   ]
  },
  {
   "cell_type": "markdown",
   "metadata": {
    "collapsed": false
   },
   "source": [
    "### 897.最长公共子序列"
   ]
  },
  {
   "cell_type": "code",
   "execution_count": 2,
   "metadata": {},
   "outputs": [
    {
     "name": "stdout",
     "output_type": "stream",
     "text": [
      "3\n"
     ]
    }
   ],
   "source": [
    "N,M = map( int, input().split() )\n",
    "str1 = input()\n",
    "str2 = input()\n",
    "dp = [ [0] * (M+1) for _ in range(N+1) ]\n",
    "for i in range(1, N+1):         # 注意从1开始\n",
    "    for j in range(1, M+1):         # 注意从1开始\n",
    "        dp[i][j] = max( dp[i-1][j] , dp[i][j-1] )\n",
    "        if str1[i-1] == str2[j-1]:         # 这里注意i-1，j-1\n",
    "            dp[i][j] = max( dp[i][j] , dp[i-1][j-1] + 1 )\n",
    "print( dp[-1][-1] )"
   ]
  },
  {
   "cell_type": "markdown",
   "metadata": {},
   "source": [
    "### 291.蒙德里安的梦想"
   ]
  },
  {
   "cell_type": "code",
   "execution_count": 4,
   "metadata": {},
   "outputs": [
    {
     "name": "stdout",
     "output_type": "stream",
     "text": [
      "1\n",
      "51205\n",
      "144\n"
     ]
    }
   ],
   "source": [
    "def st(i, n, tf):\n",
    "    cnt = 0\n",
    "    for j in range(n):             # 移位错误，移0位就相当于没移\n",
    "        if i >> j & 1:\n",
    "            if cnt & 1:\n",
    "                tf[i] = False\n",
    "        else:\n",
    "            cnt += 1\n",
    "    if cnt & 1:                      #这一句忘记写了\n",
    "        tf[i] = False\n",
    "        \n",
    "            \n",
    "M = 1 << 12            \n",
    "tf = [False] * (M)\n",
    "while True:\n",
    "    n, m = map( int, input().split()  )\n",
    "    if n == 0 and m == 0:\n",
    "        break\n",
    "    dp = [ [0] * (1 << n+1) for _ in range(m+1) ]      #维度容易写错\n",
    "    dp[0][0] = 1\n",
    "    \n",
    "    for i in range( 1 << n ):\n",
    "        tf[i] = True\n",
    "        st( i, n, tf )\n",
    "\n",
    "    for i in range(1, m+1):\n",
    "        for j in range( 1 << n ):\n",
    "            for k in range( 1 << n ):\n",
    "                if (j & k) == 0 and tf[ j | k ]:\n",
    "                    dp[i][j] += dp[i-1][k]\n",
    "    print(dp[m][0])"
   ]
  },
  {
   "cell_type": "code",
   "execution_count": null,
   "metadata": {},
   "outputs": [],
   "source": []
  }
 ],
 "metadata": {
  "kernelspec": {
   "display_name": "Python 3.10.8 64-bit",
   "language": "python",
   "name": "python3"
  },
  "language_info": {
   "codemirror_mode": {
    "name": "ipython",
    "version": 3
   },
   "file_extension": ".py",
   "mimetype": "text/x-python",
   "name": "python",
   "nbconvert_exporter": "python",
   "pygments_lexer": "ipython3",
   "version": "3.10.8"
  },
  "vscode": {
   "interpreter": {
    "hash": "6e7adb6d130a076c5cac5ce0a35c09d689a7b2905a9c54668818078855c95e93"
   }
  }
 },
 "nbformat": 4,
 "nbformat_minor": 0
}
