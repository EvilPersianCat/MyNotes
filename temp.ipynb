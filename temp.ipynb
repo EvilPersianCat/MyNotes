{
 "cells": [
  {
   "attachments": {},
   "cell_type": "markdown",
   "metadata": {},
   "source": [
    "1.统计字符串中单词的个数:"
   ]
  },
  {
   "cell_type": "code",
   "execution_count": 1,
   "metadata": {},
   "outputs": [
    {
     "name": "stdout",
     "output_type": "stream",
     "text": [
      "{'e': 3, 'r': 1, 'n': 1, 'h': 1, 'm': 2, 'y': 1, 'o': 1, 's': 1, 'i': 1, 'H': 1, 'l': 2, 'a': 1, 'M': 1}\n"
     ]
    }
   ],
   "source": [
    "string = 'hello my name is Mr He'\n",
    "x = { char : string.count(char) for char in set(string) }\n",
    "x.pop(' ')\n",
    "print(x)"
   ]
  },
  {
   "attachments": {},
   "cell_type": "markdown",
   "metadata": {},
   "source": [
    "2.Zip"
   ]
  },
  {
   "cell_type": "code",
   "execution_count": 19,
   "metadata": {},
   "outputs": [
    {
     "name": "stdout",
     "output_type": "stream",
     "text": [
      "('joe', 18, 'blue') ('jack', 23, 'yellow') ('mike', 21, 'red') ('tom', 31, 'black')\n"
     ]
    }
   ],
   "source": [
    "names = ['joe', 'jack', 'mike', 'tom']\n",
    "ages = [18, 23, 21, 31]\n",
    "eye_color = ['blue', 'yellow', 'red', 'black']\n",
    "people =  list( zip(names, ages, eye_color) ) \n",
    "print(*people)"
   ]
  },
  {
   "attachments": {},
   "cell_type": "markdown",
   "metadata": {},
   "source": [
    "3. For-Else, While-Else"
   ]
  },
  {
   "cell_type": "code",
   "execution_count": 23,
   "metadata": {},
   "outputs": [
    {
     "name": "stdout",
     "output_type": "stream",
     "text": [
      "I did not find it\n"
     ]
    }
   ],
   "source": [
    "search = [1, 2, 3, 4, 5, 6, 7]\n",
    "target = 8\n",
    "for x in search:\n",
    "    if x == target:\n",
    "        print('I find it!')\n",
    "        break\n",
    "else:\n",
    "    print('I did not find it')"
   ]
  },
  {
   "attachments": {},
   "cell_type": "markdown",
   "metadata": {},
   "source": [
    "4. sort by key"
   ]
  },
  {
   "cell_type": "code",
   "execution_count": 29,
   "metadata": {},
   "outputs": [
    {
     "name": "stdout",
     "output_type": "stream",
     "text": [
      "('joe', 18, 'blue') ('mike', 21, 'red') ('jack', 23, 'yellow') ('tom', 31, 'black')\n"
     ]
    }
   ],
   "source": [
    "names = ['joe', 'jack', 'mike', 'tom']\n",
    "ages = [18, 23, 21, 31]\n",
    "eye_color = ['blue', 'yellow', 'red', 'black']\n",
    "people =  list( zip(names, ages, eye_color) ) \n",
    "people.sort( key= lambda x : x[1], reverse=False )\n",
    "print(*people)\n"
   ]
  }
 ],
 "metadata": {
  "kernelspec": {
   "display_name": "Python 3.10.8 64-bit",
   "language": "python",
   "name": "python3"
  },
  "language_info": {
   "codemirror_mode": {
    "name": "ipython",
    "version": 3
   },
   "file_extension": ".py",
   "mimetype": "text/x-python",
   "name": "python",
   "nbconvert_exporter": "python",
   "pygments_lexer": "ipython3",
   "version": "3.10.8"
  },
  "orig_nbformat": 4,
  "vscode": {
   "interpreter": {
    "hash": "6e7adb6d130a076c5cac5ce0a35c09d689a7b2905a9c54668818078855c95e93"
   }
  }
 },
 "nbformat": 4,
 "nbformat_minor": 2
}
